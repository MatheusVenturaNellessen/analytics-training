{
 "cells": [
  {
   "cell_type": "markdown",
   "id": "ed001c94-5c83-47a7-a936-ec4abc0fc54c",
   "metadata": {},
   "source": [
    "# Escolher um Modelo de Machine Learning\n",
    "\n",
    "No **Scikit-Learn**, os modelos de ML são chamados como *estimators*:\n",
    "\n",
    "* `Classification Estimator` → prever uma **categoria**.\n",
    "\n",
    "* `Regression Estimator` → prever um **número**.\n",
    "\n",
    "## Qual *estimator* escolher?\n",
    "\n",
    "![Logo](./img/ml_map.svg)\n",
    "\n",
    "---"
   ]
  },
  {
   "cell_type": "code",
   "execution_count": 1,
   "id": "4b470401-7a9b-4d74-9a36-d62c1891d9cd",
   "metadata": {},
   "outputs": [
    {
     "data": {
      "text/plain": [
       "{'data': array([[   8.3252    ,   41.        ,    6.98412698, ...,    2.55555556,\n",
       "           37.88      , -122.23      ],\n",
       "        [   8.3014    ,   21.        ,    6.23813708, ...,    2.10984183,\n",
       "           37.86      , -122.22      ],\n",
       "        [   7.2574    ,   52.        ,    8.28813559, ...,    2.80225989,\n",
       "           37.85      , -122.24      ],\n",
       "        ...,\n",
       "        [   1.7       ,   17.        ,    5.20554273, ...,    2.3256351 ,\n",
       "           39.43      , -121.22      ],\n",
       "        [   1.8672    ,   18.        ,    5.32951289, ...,    2.12320917,\n",
       "           39.43      , -121.32      ],\n",
       "        [   2.3886    ,   16.        ,    5.25471698, ...,    2.61698113,\n",
       "           39.37      , -121.24      ]], shape=(20640, 8)),\n",
       " 'target': array([4.526, 3.585, 3.521, ..., 0.923, 0.847, 0.894], shape=(20640,)),\n",
       " 'frame': None,\n",
       " 'target_names': ['MedHouseVal'],\n",
       " 'feature_names': ['MedInc',\n",
       "  'HouseAge',\n",
       "  'AveRooms',\n",
       "  'AveBedrms',\n",
       "  'Population',\n",
       "  'AveOccup',\n",
       "  'Latitude',\n",
       "  'Longitude'],\n",
       " 'DESCR': '.. _california_housing_dataset:\\n\\nCalifornia Housing dataset\\n--------------------------\\n\\n**Data Set Characteristics:**\\n\\n:Number of Instances: 20640\\n\\n:Number of Attributes: 8 numeric, predictive attributes and the target\\n\\n:Attribute Information:\\n    - MedInc        median income in block group\\n    - HouseAge      median house age in block group\\n    - AveRooms      average number of rooms per household\\n    - AveBedrms     average number of bedrooms per household\\n    - Population    block group population\\n    - AveOccup      average number of household members\\n    - Latitude      block group latitude\\n    - Longitude     block group longitude\\n\\n:Missing Attribute Values: None\\n\\nThis dataset was obtained from the StatLib repository.\\nhttps://www.dcc.fc.up.pt/~ltorgo/Regression/cal_housing.html\\n\\nThe target variable is the median house value for California districts,\\nexpressed in hundreds of thousands of dollars ($100,000).\\n\\nThis dataset was derived from the 1990 U.S. census, using one row per census\\nblock group. A block group is the smallest geographical unit for which the U.S.\\nCensus Bureau publishes sample data (a block group typically has a population\\nof 600 to 3,000 people).\\n\\nA household is a group of people residing within a home. Since the average\\nnumber of rooms and bedrooms in this dataset are provided per household, these\\ncolumns may take surprisingly large values for block groups with few households\\nand many empty houses, such as vacation resorts.\\n\\nIt can be downloaded/loaded using the\\n:func:`sklearn.datasets.fetch_california_housing` function.\\n\\n.. rubric:: References\\n\\n- Pace, R. Kelley and Ronald Barry, Sparse Spatial Autoregressions,\\n  Statistics and Probability Letters, 33:291-297, 1997.\\n'}"
      ]
     },
     "execution_count": 1,
     "metadata": {},
     "output_type": "execute_result"
    }
   ],
   "source": [
    "import pandas as pd\n",
    "from sklearn.datasets import fetch_california_housing # importa dataset \"desconstruído\"\n",
    "\n",
    "california_housing = fetch_california_housing() # atribuí dataset \"desconstruído\" à um dicionário\n",
    "\n",
    "california_housing # visualiza dicionário que contém o dataset \"desconstruído\""
   ]
  },
  {
   "cell_type": "code",
   "execution_count": 2,
   "id": "5d565bea-3572-48bf-9127-4cf2fce9422d",
   "metadata": {},
   "outputs": [
    {
     "data": {
      "text/html": [
       "<div>\n",
       "<style scoped>\n",
       "    .dataframe tbody tr th:only-of-type {\n",
       "        vertical-align: middle;\n",
       "    }\n",
       "\n",
       "    .dataframe tbody tr th {\n",
       "        vertical-align: top;\n",
       "    }\n",
       "\n",
       "    .dataframe thead th {\n",
       "        text-align: right;\n",
       "    }\n",
       "</style>\n",
       "<table border=\"1\" class=\"dataframe\">\n",
       "  <thead>\n",
       "    <tr style=\"text-align: right;\">\n",
       "      <th></th>\n",
       "      <th>MedInc</th>\n",
       "      <th>HouseAge</th>\n",
       "      <th>AveRooms</th>\n",
       "      <th>AveBedrms</th>\n",
       "      <th>Population</th>\n",
       "      <th>AveOccup</th>\n",
       "      <th>Latitude</th>\n",
       "      <th>Longitude</th>\n",
       "      <th>MedHouseVal</th>\n",
       "    </tr>\n",
       "  </thead>\n",
       "  <tbody>\n",
       "    <tr>\n",
       "      <th>0</th>\n",
       "      <td>8.3252</td>\n",
       "      <td>41.0</td>\n",
       "      <td>6.984127</td>\n",
       "      <td>1.023810</td>\n",
       "      <td>322.0</td>\n",
       "      <td>2.555556</td>\n",
       "      <td>37.88</td>\n",
       "      <td>-122.23</td>\n",
       "      <td>4.526</td>\n",
       "    </tr>\n",
       "    <tr>\n",
       "      <th>1</th>\n",
       "      <td>8.3014</td>\n",
       "      <td>21.0</td>\n",
       "      <td>6.238137</td>\n",
       "      <td>0.971880</td>\n",
       "      <td>2401.0</td>\n",
       "      <td>2.109842</td>\n",
       "      <td>37.86</td>\n",
       "      <td>-122.22</td>\n",
       "      <td>3.585</td>\n",
       "    </tr>\n",
       "    <tr>\n",
       "      <th>2</th>\n",
       "      <td>7.2574</td>\n",
       "      <td>52.0</td>\n",
       "      <td>8.288136</td>\n",
       "      <td>1.073446</td>\n",
       "      <td>496.0</td>\n",
       "      <td>2.802260</td>\n",
       "      <td>37.85</td>\n",
       "      <td>-122.24</td>\n",
       "      <td>3.521</td>\n",
       "    </tr>\n",
       "    <tr>\n",
       "      <th>3</th>\n",
       "      <td>5.6431</td>\n",
       "      <td>52.0</td>\n",
       "      <td>5.817352</td>\n",
       "      <td>1.073059</td>\n",
       "      <td>558.0</td>\n",
       "      <td>2.547945</td>\n",
       "      <td>37.85</td>\n",
       "      <td>-122.25</td>\n",
       "      <td>3.413</td>\n",
       "    </tr>\n",
       "    <tr>\n",
       "      <th>4</th>\n",
       "      <td>3.8462</td>\n",
       "      <td>52.0</td>\n",
       "      <td>6.281853</td>\n",
       "      <td>1.081081</td>\n",
       "      <td>565.0</td>\n",
       "      <td>2.181467</td>\n",
       "      <td>37.85</td>\n",
       "      <td>-122.25</td>\n",
       "      <td>3.422</td>\n",
       "    </tr>\n",
       "  </tbody>\n",
       "</table>\n",
       "</div>"
      ],
      "text/plain": [
       "   MedInc  HouseAge  AveRooms  AveBedrms  Population  AveOccup  Latitude  \\\n",
       "0  8.3252      41.0  6.984127   1.023810       322.0  2.555556     37.88   \n",
       "1  8.3014      21.0  6.238137   0.971880      2401.0  2.109842     37.86   \n",
       "2  7.2574      52.0  8.288136   1.073446       496.0  2.802260     37.85   \n",
       "3  5.6431      52.0  5.817352   1.073059       558.0  2.547945     37.85   \n",
       "4  3.8462      52.0  6.281853   1.081081       565.0  2.181467     37.85   \n",
       "\n",
       "   Longitude  MedHouseVal  \n",
       "0    -122.23        4.526  \n",
       "1    -122.22        3.585  \n",
       "2    -122.24        3.521  \n",
       "3    -122.25        3.413  \n",
       "4    -122.25        3.422  "
      ]
     },
     "execution_count": 2,
     "metadata": {},
     "output_type": "execute_result"
    }
   ],
   "source": [
    "# Controi as fetures em um df\n",
    "california_housing_df = pd.DataFrame(california_housing[\"data\"], columns = california_housing[\"feature_names\"])\n",
    "# Uni ao df o target\n",
    "california_housing_df[\"MedHouseVal\"] = california_housing[\"target\"]\n",
    "\n",
    "california_housing_df.head() # visualiza o df (dataset construído)"
   ]
  },
  {
   "cell_type": "code",
   "execution_count": 3,
   "id": "8463ef6b-4a10-4b06-9136-6394896a455e",
   "metadata": {},
   "outputs": [
    {
     "name": "stdout",
     "output_type": "stream",
     "text": [
      "<class 'pandas.core.frame.DataFrame'>\n",
      "RangeIndex: 20640 entries, 0 to 20639\n",
      "Data columns (total 9 columns):\n",
      " #   Column       Non-Null Count  Dtype  \n",
      "---  ------       --------------  -----  \n",
      " 0   MedInc       20640 non-null  float64\n",
      " 1   HouseAge     20640 non-null  float64\n",
      " 2   AveRooms     20640 non-null  float64\n",
      " 3   AveBedrms    20640 non-null  float64\n",
      " 4   Population   20640 non-null  float64\n",
      " 5   AveOccup     20640 non-null  float64\n",
      " 6   Latitude     20640 non-null  float64\n",
      " 7   Longitude    20640 non-null  float64\n",
      " 8   MedHouseVal  20640 non-null  float64\n",
      "dtypes: float64(9)\n",
      "memory usage: 1.4 MB\n",
      "None\n",
      "MedInc         0\n",
      "HouseAge       0\n",
      "AveRooms       0\n",
      "AveBedrms      0\n",
      "Population     0\n",
      "AveOccup       0\n",
      "Latitude       0\n",
      "Longitude      0\n",
      "MedHouseVal    0\n",
      "dtype: int64\n"
     ]
    }
   ],
   "source": [
    "# Analizar df\n",
    "print(california_housing_df.info())\n",
    "print(california_housing_df.isna().sum())"
   ]
  },
  {
   "cell_type": "code",
   "execution_count": 4,
   "id": "9b87fcd2-ad59-4cbd-b4e3-50ba3e0d168f",
   "metadata": {},
   "outputs": [],
   "source": [
    "import numpy as np \n",
    "np.random.seed(42) # garante uniformidade aos geradores NumPy\n",
    "\n",
    "# Divide os dados (df) em features (x) e target (y)\n",
    "x = california_housing_df.drop(\"MedHouseVal\", axis = 1)\n",
    "y = california_housing_df[\"MedHouseVal\"]\n",
    "\n",
    "from sklearn.model_selection import train_test_split\n",
    "\n",
    "# Divide novamente os dados (x e y) em treino e teste\n",
    "x_train, x_test, y_train, y_test = train_test_split(x, y, test_size = 0.2)"
   ]
  },
  {
   "cell_type": "markdown",
   "id": "fed5f89c-67cd-45d7-b90b-b39da2427750",
   "metadata": {},
   "source": [
    "## Ridge Regression\n",
    "\n",
    "[Documentação](https://scikit-learn.org/stable/modules/linear_model.html#ridge-regression)."
   ]
  },
  {
   "cell_type": "code",
   "execution_count": 5,
   "id": "44f914e8-77e3-4456-9f6f-266c7cf13c61",
   "metadata": {},
   "outputs": [
    {
     "name": "stdout",
     "output_type": "stream",
     "text": [
      "R² do treino: 61.26%\n",
      "R² do teste: 57.59%\n"
     ]
    }
   ],
   "source": [
    "from sklearn.linear_model import Ridge # importa o modelo de regressão Ridge\n",
    "\n",
    "model = Ridge() # instancia o modelo com hiper-parâmetros padrões\n",
    "\n",
    "# O método ajusta o modelo aos dados de treino x_train (variáveis independentes) e y_train (variável alvo)\n",
    "model.fit(x_train, y_train)\n",
    "\n",
    "# Retornam o coeficiente de determinação (R²)\n",
    "# O R² mostra quanto da variação do y é explicada pelo modelo\n",
    "print(f\"R² do treino: {model.score(x_train, y_train) * 100:.2f}%\")\n",
    "print(f\"R² do teste: {model.score(x_test, y_test) * 100:.2f}%\")"
   ]
  },
  {
   "cell_type": "markdown",
   "id": "90ae50ac-6764-47a0-b1af-627f2b5c365d",
   "metadata": {},
   "source": [
    "### Como o modelo funciona?\n",
    "\n",
    "A **Regressão Ridge** é uma versão da regressão linear que incorpora regularização para evitar overfitting. Enquanto a regressão linear busca a melhor reta que explica a relação entre variáveis, ela pode se ajustar demais aos dados de treino, o que prejudica a performance com dados novos.\n",
    "\n",
    "Para resolver isso, a Ridge aplica a penalização `L2`, que adiciona uma punição ao uso de coeficientes muito altos. Isso faz com que o modelo não apenas minimize o erro, mas também mantenha os coeficientes controlados, resultando em previsões mais estáveis e generalizáveis.\n",
    "\n",
    "Essa penalização é regulada pelo parâmetro `alpha`: quanto maior, mais o modelo restringe os coeficientes.\n",
    "\n",
    "No exemplo citado, o modelo Ridge é treinado com dados de treino e avaliado com `score()`, que retorna o `R²`, indicando o quanto da variação da variável alvo é explicada pelo modelo."
   ]
  },
  {
   "cell_type": "markdown",
   "id": "8b2919ec-aa54-4fd6-8389-acb5306f5b2f",
   "metadata": {},
   "source": [
    "## Ensembles\n",
    "\n",
    "[Documentação](https://scikit-learn.org/stable/modules/ensemble.html#)."
   ]
  },
  {
   "cell_type": "markdown",
   "id": "97887c09-8767-4caa-ada8-ae2f54022555",
   "metadata": {},
   "source": [
    "* ### Random Forest Regressor \n",
    "\n",
    "[Documentação](https://scikit-learn.org/stable/modules/generated/sklearn.ensemble.RandomForestRegressor.html#sklearn.ensemble.RandomForestRegressor)."
   ]
  },
  {
   "cell_type": "code",
   "execution_count": 9,
   "id": "e3b96705-9bf9-4b7f-a569-544c5ce22bbf",
   "metadata": {},
   "outputs": [
    {
     "name": "stdout",
     "output_type": "stream",
     "text": [
      "R² do modelo 'Random Forest Regressor' no treino: 0.97\n",
      "R² do modelo 'Random Forest Regressor' no teste: 0.81\n"
     ]
    }
   ],
   "source": [
    "# Importa modelo supervisionado para regressão, baseado no conjunto (ensemble) de várias árvores de decisão\n",
    "from sklearn.ensemble import RandomForestRegressor\n",
    "\n",
    "# Instancia modelo com os hiper-parâmetros padrões\n",
    "# Cria vários decision trees e faz a média dos resultados p/ melhorar a performance e reduzir overfitting\n",
    "model = RandomForestRegressor()\n",
    "\n",
    "model.fit(x_train, y_train) # treina o modelo com a partir dos dados de treino\n",
    "\n",
    "# Imprime o R² do modelo \n",
    "print(f\"R² do modelo 'Random Forest Regressor' no treino: {model.score(x_train, y_train):.2f}\")\n",
    "print(f\"R² do modelo 'Random Forest Regressor' no teste: {model.score(x_test, y_test):.2f}\") "
   ]
  },
  {
   "cell_type": "markdown",
   "id": "4354fb18-abc8-42a8-91a2-2028c1f58280",
   "metadata": {},
   "source": [
    "### Como o modelo funciona?\n",
    "\n",
    "O **Random Forest Regressor** é um modelo de aprendizado de máquina supervisionado utilizado para prever valores numéricos. Ele funciona criando várias **árvores de decisão** independentes, onde cada uma é treinada com subconjuntos aleatórios dos dados. Essas árvores fazem previsões separadas, e o modelo final calcula a média das respostas para gerar uma previsão mais estável e precisa. Essa abordagem reduz o risco de overfitting comum em árvores individuais.\n",
    "\n",
    "Para avaliar a performance do modelo, uma das métricas mais usadas é o `R²` (coeficiente de determinação). Ele indica o quanto da variação dos dados reais é explicada pelas previsões do modelo. Um R² igual a 1 representa uma previsão perfeita; um valor próximo de 0 indica que o modelo não consegue explicar os dados melhor do que simplesmente usar a média; e valores negativos significam que o modelo está pior do que uma simples média."
   ]
  },
  {
   "cell_type": "code",
   "execution_count": null,
   "id": "6c7921d9-f890-4fd4-b7ab-a79a01b94ac3",
   "metadata": {},
   "outputs": [],
   "source": []
  }
 ],
 "metadata": {
  "kernelspec": {
   "display_name": "Python 3 (ipykernel)",
   "language": "python",
   "name": "python3"
  },
  "language_info": {
   "codemirror_mode": {
    "name": "ipython",
    "version": 3
   },
   "file_extension": ".py",
   "mimetype": "text/x-python",
   "name": "python",
   "nbconvert_exporter": "python",
   "pygments_lexer": "ipython3",
   "version": "3.13.5"
  }
 },
 "nbformat": 4,
 "nbformat_minor": 5
}
