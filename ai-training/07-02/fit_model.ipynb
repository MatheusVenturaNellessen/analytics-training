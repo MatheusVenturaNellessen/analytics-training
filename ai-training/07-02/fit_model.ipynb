{
 "cells": [
  {
   "cell_type": "markdown",
   "id": "d2252cfd-d65c-493a-a9ae-c6229ede216c",
   "metadata": {},
   "source": [
    "# Como Treinamos Modelos?"
   ]
  },
  {
   "cell_type": "code",
   "execution_count": 1,
   "id": "4125bbe5-5434-4eb2-a30e-a8a937ab756f",
   "metadata": {},
   "outputs": [],
   "source": [
    "import pandas as pd\n",
    "\n",
    "heart_disease_df = pd.read_csv(\"./dataset/heart-disease.csv\")"
   ]
  },
  {
   "cell_type": "code",
   "execution_count": 2,
   "id": "84f50087-4bac-473e-9ccd-f22650f50dae",
   "metadata": {},
   "outputs": [],
   "source": [
    "import numpy as np\n",
    "\n",
    "np.random.seed(42) # garante uniformidade aos geradores NumPy"
   ]
  },
  {
   "cell_type": "code",
   "execution_count": 3,
   "id": "39487cca-78ff-4382-927e-99c5db9437fc",
   "metadata": {},
   "outputs": [],
   "source": [
    "# Divide o DataFrame em feature (x) e target (y)\n",
    "x = heart_disease_df.drop(\"target\", axis = 1)\n",
    "y = heart_disease_df[\"target\"]"
   ]
  },
  {
   "cell_type": "code",
   "execution_count": 4,
   "id": "aad612e3-92a2-41ca-b91f-e35809480eb2",
   "metadata": {},
   "outputs": [],
   "source": [
    "from sklearn.model_selection import train_test_split\n",
    "\n",
    "# Divide os dados (x e y) em treino e teste\n",
    "x_train, x_test, y_train, y_test = train_test_split(x, y, test_size = 0.2)"
   ]
  },
  {
   "cell_type": "code",
   "execution_count": 6,
   "id": "351cf603-6a2f-4146-b2bc-53218d302cab",
   "metadata": {},
   "outputs": [
    {
     "name": "stdout",
     "output_type": "stream",
     "text": [
      "Acurácia do modelo 'Random Forest Classifier': 85.25%\n"
     ]
    }
   ],
   "source": [
    "# Importa o modelo \"RandomForestClassifier\" da biblioteca do \"sklearn\"\n",
    "from sklearn.ensemble import RandomForestClassifier\n",
    "\n",
    "clf = RandomForestClassifier() # instancia o modelo com os hiper-parâmetros padrões\n",
    "\n",
    "clf.fit(x_train, y_train) # treina o modelo com os dados de entrada (x_train) e os rótulos (y_train)\n",
    "\n",
    "# Avalia o desempenho do modelo com os dados de teste e imprime sua acurácia em %\n",
    "print(f\"Acurácia do modelo 'Random Forest Classifier': {clf.score(x_test, y_test) * 100:.2f}%\")"
   ]
  },
  {
   "cell_type": "markdown",
   "id": "77b69d76-a763-4995-9358-8c8416c134db",
   "metadata": {},
   "source": [
    "## Como funciona o treinamento?\n",
    "\n",
    "Nos modelos de aprendizado de máquina do **scikit-learn**, a função `.fit()` é responsável por treinar o modelo. Ela recebe como entrada os dados (X) e os rótulos correspondentes (y) e, a partir disso, o algoritmo aprende os padrões que relacionam essas variáveis. No caso de classificadores, como o `Random Forest`, isso significa construir internamente uma estrutura que permite ao modelo distinguir entre as diferentes classes com base nas características dos dados.\n",
    "\n",
    "Já a função `.score()` é usada para avaliar o desempenho do modelo treinado. Ela também recebe os dados (X) e os rótulos verdadeiros (y), e calcula a proporção de acertos — ou seja, a acurácia."
   ]
  }
 ],
 "metadata": {
  "kernelspec": {
   "display_name": "Python 3 (ipykernel)",
   "language": "python",
   "name": "python3"
  },
  "language_info": {
   "codemirror_mode": {
    "name": "ipython",
    "version": 3
   },
   "file_extension": ".py",
   "mimetype": "text/x-python",
   "name": "python",
   "nbconvert_exporter": "python",
   "pygments_lexer": "ipython3",
   "version": "3.13.5"
  }
 },
 "nbformat": 4,
 "nbformat_minor": 5
}
